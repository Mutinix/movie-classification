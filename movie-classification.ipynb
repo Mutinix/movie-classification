{
 "cells": [
  {
   "cell_type": "code",
   "execution_count": 5,
   "metadata": {},
   "outputs": [],
   "source": [
    "import urllib2\n",
    "import requests\n",
    "import json\n",
    "import imdb\n",
    "import time\n",
    "import itertools\n",
    "import wget\n",
    "import os\n",
    "import tmdbsimple as tmdb\n",
    "import numpy as np\n",
    "import random\n",
    "import matplotlib\n",
    "import matplotlib.pyplot as plt\n",
    "%matplotlib inline\n",
    "import seaborn as sns\n",
    "import pickle"
   ]
  },
  {
   "cell_type": "code",
   "execution_count": 6,
   "metadata": {
    "collapsed": true
   },
   "outputs": [],
   "source": [
    "# Directory for scraped posters\n",
    "poster_folder = 'posters_final/'\n",
    "if poster_folder.split('/')[0] in os.listdir('./'):\n",
    "    print('Folder already exists.')\n",
    "else:\n",
    "    os.mkdir('./' + poster_folder)"
   ]
  },
  {
   "cell_type": "code",
   "execution_count": 9,
   "metadata": {
    "collapsed": true
   },
   "outputs": [],
   "source": [
    "api_key = ''\n",
    "\n",
    "tmdb.API_KEY = api_key\n",
    "search = tmdb.Search() # Search object for TMDb\n",
    "\n",
    "def grab_poster_tmdb(movie):\n",
    "    response = search.movie(query = movie)\n",
    "    id = response['results'][0]['id']\n",
    "    movie = tmdb.Movies(id)\n",
    "    posterp = movie.info()['poster_path']\n",
    "    title = move.info()['original_title']\n",
    "    url = 'image.tmdb.org/t/p/original' + posterp\n",
    "    title = \"_\".join(title.split(' '))\n",
    "    strcmd = 'wget -O' + poster_folder + title + '.jpg ' + url\n",
    "    os.system(strcmd)\n",
    "    \n",
    "def get_movie_id_tmdb(movie):\n",
    "    response = search.movie(query=movie)\n",
    "    movie_id = response['results'][0]['id']\n",
    "    return movie_id\n",
    "\n",
    "def get_movie_info_tmdb(movie):\n",
    "    response = search.movie(query=movie)\n",
    "    id = response['results'][0]['id']\n",
    "    movie = tmdb.Movies(id)\n",
    "    info = movie.info()\n",
    "    return info\n",
    "\n",
    "def get_movie_genres_tmdb(movie):\n",
    "    response = search.movie(query=movie)\n",
    "    id = response['results'][0]['id']\n",
    "    movie = tmdb.Movies(id)\n",
    "    genres = movie.info()['genres']\n",
    "    return genres"
   ]
  },
  {
   "cell_type": "code",
   "execution_count": 11,
   "metadata": {},
   "outputs": [
    {
     "name": "stdout",
     "output_type": "stream",
     "text": [
      "[{u'id': 28, u'name': u'Action'}, {u'id': 878, u'name': u'Science Fiction'}]\n"
     ]
    }
   ],
   "source": [
    "print get_movie_genres_tmdb(\"The Matrix\")"
   ]
  },
  {
   "cell_type": "code",
   "execution_count": 13,
   "metadata": {},
   "outputs": [
    {
     "name": "stdout",
     "output_type": "stream",
     "text": [
      "Movie information dictionary from TMDb:\n"
     ]
    },
    {
     "data": {
      "text/plain": [
       "[u'poster_path',\n",
       " u'production_countries',\n",
       " u'revenue',\n",
       " u'overview',\n",
       " u'video',\n",
       " u'id',\n",
       " u'genres',\n",
       " u'title',\n",
       " u'tagline',\n",
       " u'vote_count',\n",
       " u'homepage',\n",
       " u'belongs_to_collection',\n",
       " u'original_language',\n",
       " u'status',\n",
       " u'spoken_languages',\n",
       " u'imdb_id',\n",
       " u'adult',\n",
       " u'backdrop_path',\n",
       " u'production_companies',\n",
       " u'release_date',\n",
       " u'popularity',\n",
       " u'original_title',\n",
       " u'budget',\n",
       " u'vote_average',\n",
       " u'runtime']"
      ]
     },
     "execution_count": 13,
     "metadata": {},
     "output_type": "execute_result"
    }
   ],
   "source": [
    "info = get_movie_info_tmdb(\"The Matrix\")\n",
    "print \"Movie information dictionary from TMDb:\"\n",
    "info.keys()"
   ]
  },
  {
   "cell_type": "code",
   "execution_count": 14,
   "metadata": {},
   "outputs": [
    {
     "name": "stdout",
     "output_type": "stream",
     "text": [
      "Welcome to the Real World.\n"
     ]
    }
   ],
   "source": [
    "# For example, to get the tagline\n",
    "info = get_movie_info_tmdb(\"The Matrix\")\n",
    "print info['tagline']"
   ]
  },
  {
   "cell_type": "code",
   "execution_count": 16,
   "metadata": {},
   "outputs": [
    {
     "name": "stdout",
     "output_type": "stream",
     "text": [
      "All the information we can get about this movie from IMDb:\n"
     ]
    },
    {
     "data": {
      "text/plain": [
       "[u'music department',\n",
       " 'sound crew',\n",
       " 'camera and electrical department',\n",
       " u'distributors',\n",
       " 'rating',\n",
       " 'runtimes',\n",
       " 'costume designer',\n",
       " 'make up',\n",
       " 'year',\n",
       " 'production design',\n",
       " 'miscellaneous crew',\n",
       " 'color info',\n",
       " u'casting department',\n",
       " 'languages',\n",
       " 'votes',\n",
       " 'producer',\n",
       " 'title',\n",
       " 'mpaa',\n",
       " 'assistant director',\n",
       " 'writer',\n",
       " 'production manager',\n",
       " 'casting director',\n",
       " 'visual effects',\n",
       " 'top 250 rank',\n",
       " 'set decoration',\n",
       " 'editor',\n",
       " 'certificates',\n",
       " u'costume department',\n",
       " 'country codes',\n",
       " 'language codes',\n",
       " 'cover url',\n",
       " u'special effects department',\n",
       " 'special effects companies',\n",
       " 'sound mix',\n",
       " u'location management',\n",
       " 'genres',\n",
       " 'director',\n",
       " 'stunt performer',\n",
       " 'miscellaneous companies',\n",
       " 'cinematographer',\n",
       " 'art direction',\n",
       " 'akas',\n",
       " 'aspect ratio',\n",
       " u'production companies',\n",
       " 'kind',\n",
       " u'art department',\n",
       " 'countries',\n",
       " u'transportation department',\n",
       " 'plot outline',\n",
       " 'plot',\n",
       " 'cast',\n",
       " u'animation department',\n",
       " 'original music',\n",
       " u'editorial department',\n",
       " 'canonical title',\n",
       " 'long imdb title',\n",
       " 'long imdb canonical title',\n",
       " 'smart canonical title',\n",
       " 'smart long imdb canonical title',\n",
       " 'full-size cover url']"
      ]
     },
     "execution_count": 16,
     "metadata": {},
     "output_type": "execute_result"
    }
   ],
   "source": [
    "imdb_object = imdb.IMDb()\n",
    "\n",
    "# Gets a list of movie objects\n",
    "results = imdb_object.search_movie('The Matrix')\n",
    "\n",
    "movie = results[0]\n",
    "\n",
    "imdb_object.update(movie)\n",
    "\n",
    "print \"All the information we can get about this movie from IMDb:\"\n",
    "movie.keys()"
   ]
  },
  {
   "cell_type": "code",
   "execution_count": 17,
   "metadata": {},
   "outputs": [
    {
     "name": "stdout",
     "output_type": "stream",
     "text": [
      "The genres associated with this movie are: [u'Action', u'Sci-Fi']\n"
     ]
    }
   ],
   "source": [
    "print \"The genres associated with this movie are:\", movie['genres']"
   ]
  },
  {
   "cell_type": "code",
   "execution_count": 18,
   "metadata": {},
   "outputs": [
    {
     "name": "stdout",
     "output_type": "stream",
     "text": [
      "The genres for The Matrix from IMDb: [u'Action', u'Sci-Fi']\n",
      "The genres for The Matrix from TMDb: [{u'id': 28, u'name': u'Action'}, {u'id': 878, u'name': u'Science Fiction'}]\n"
     ]
    }
   ],
   "source": [
    "# Comparing the two sources\n",
    "print \"The genres for The Matrix from IMDb:\", movie['genres']\n",
    "print \"The genres for The Matrix from TMDb:\", get_movie_genres_tmdb(\"The Matrix\")"
   ]
  },
  {
   "cell_type": "code",
   "execution_count": 19,
   "metadata": {},
   "outputs": [
    {
     "name": "stdout",
     "output_type": "stream",
     "text": [
      "20\n"
     ]
    }
   ],
   "source": [
    "all_movies = tmdb.Movies()\n",
    "top_movies = all_movies.popular()\n",
    "\n",
    "print (len(top_movies['results']))\n",
    "top20_movs = top_movies['results']"
   ]
  },
  {
   "cell_type": "code",
   "execution_count": 20,
   "metadata": {},
   "outputs": [
    {
     "name": "stdout",
     "output_type": "stream",
     "text": [
      "Here's all the information about this movie:\n",
      "{u'poster_path': u'/5qcUGqWoWhEsoQwNUrtf3y3fcWn.jpg', u'title': u'Despicable Me 3', u'overview': u\"Gru and his wife Lucy must stop former '80s child star Balthazar Bratt from achieving world domination.\", u'release_date': u'2017-06-29', u'popularity': 314.969583, u'original_title': u'Despicable Me 3', u'backdrop_path': u'/puV2PFq42VQPItaygizgag8jrXa.jpg', u'vote_count': 543, u'video': False, u'adult': False, u'vote_average': 6.2, u'genre_ids': [878, 12, 16, 35, 10751], u'id': 324852, u'original_language': u'en'}\n",
      "\n",
      "\n",
      "The title of the first movie is: Despicable Me 3\n"
     ]
    }
   ],
   "source": [
    "# Example\n",
    "first_movie = top20_movs[0]\n",
    "print \"Here's all the information about this movie:\"\n",
    "print first_movie\n",
    "print \"\\n\\nThe title of the first movie is:\", first_movie['title']"
   ]
  },
  {
   "cell_type": "code",
   "execution_count": 21,
   "metadata": {},
   "outputs": [
    {
     "name": "stdout",
     "output_type": "stream",
     "text": [
      "Despicable Me 3\n",
      "Beauty and the Beast\n",
      "Dawn of the Planet of the Apes\n",
      "Spider-Man: Homecoming\n",
      "War for the Planet of the Apes\n"
     ]
    }
   ],
   "source": [
    "# More examples\n",
    "for i in range(5):\n",
    "    mov = top20_movs[i]\n",
    "    title = mov['title']\n",
    "    print title"
   ]
  },
  {
   "cell_type": "code",
   "execution_count": 23,
   "metadata": {},
   "outputs": [
    {
     "name": "stdout",
     "output_type": "stream",
     "text": [
      "[878, 12, 16, 35, 10751]\n",
      "[10751, 14, 10749]\n",
      "[878, 28, 18, 53]\n",
      "[28, 12, 878]\n",
      "[10752, 28, 12, 18, 878, 53]\n"
     ]
    }
   ],
   "source": [
    "# Genres\n",
    "for i in range(5):\n",
    "    mov = top20_movs[i]\n",
    "    genre = mov['genre_ids']\n",
    "    print genre"
   ]
  },
  {
   "cell_type": "code",
   "execution_count": 24,
   "metadata": {
    "collapsed": true
   },
   "outputs": [],
   "source": [
    "genres = tmdb.Genres()\n",
    "\n",
    "# Returns a list of all the genres in the form of a dict\n",
    "list_of_genres = genres.list()['genres']"
   ]
  },
  {
   "cell_type": "code",
   "execution_count": 25,
   "metadata": {
    "collapsed": true
   },
   "outputs": [],
   "source": [
    "genre_id_to_name = {}\n",
    "for i in range(len(list_of_genres)):\n",
    "    genre_id = list_of_genres[i]['id']\n",
    "    genre_name = list_of_genres[i]['name']\n",
    "    genre_id_to_name[genre_id] = genre_name"
   ]
  },
  {
   "cell_type": "code",
   "execution_count": null,
   "metadata": {
    "collapsed": true
   },
   "outputs": [],
   "source": [
    "for i in range(5):\n",
    "    mov = top20_movs[i]\n",
    "    title = mov['title']\n",
    "    genre_ids = mov['genre_ids']\n",
    "    genre_names = [name for name in genre_id_to_name]"
   ]
  }
 ],
 "metadata": {
  "kernelspec": {
   "display_name": "Python 2",
   "language": "python",
   "name": "python2"
  },
  "language_info": {
   "codemirror_mode": {
    "name": "ipython",
    "version": 2
   },
   "file_extension": ".py",
   "mimetype": "text/x-python",
   "name": "python",
   "nbconvert_exporter": "python",
   "pygments_lexer": "ipython2",
   "version": "2.7.13"
  }
 },
 "nbformat": 4,
 "nbformat_minor": 2
}
